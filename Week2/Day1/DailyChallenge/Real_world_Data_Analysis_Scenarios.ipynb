{
  "nbformat": 4,
  "nbformat_minor": 0,
  "metadata": {
    "colab": {
      "provenance": [],
      "authorship_tag": "ABX9TyMgf1qeE5FBSrhU2KP0qUPt",
      "include_colab_link": true
    },
    "kernelspec": {
      "name": "python3",
      "display_name": "Python 3"
    },
    "language_info": {
      "name": "python"
    }
  },
  "cells": [
    {
      "cell_type": "markdown",
      "metadata": {
        "id": "view-in-github",
        "colab_type": "text"
      },
      "source": [
        "<a href=\"https://colab.research.google.com/github/y-fares/PSTB_DI_Bootcamp/blob/main/Week2/Day1/DailyChallenge/Real_world_Data_Analysis_Scenarios.ipynb\" target=\"_parent\"><img src=\"https://colab.research.google.com/assets/colab-badge.svg\" alt=\"Open In Colab\"/></a>"
      ]
    },
    {
      "cell_type": "markdown",
      "source": [
        "Instructions\n",
        "Task: Find and present in writing a recent news story or business case study where data analysis played a crucial role. This could involve situations where data analysis led to a breakthrough, influenced a major decision, or uncovered significant trends impacting the business or societal context."
      ],
      "metadata": {
        "id": "_d749O5ljC8M"
      }
    },
    {
      "cell_type": "markdown",
      "source": [
        "Step 1: Search for a relevant case or news story. Consider sources like business journals, news websites, or scientific publications."
      ],
      "metadata": {
        "id": "e4dMaGKIjEaS"
      }
    },
    {
      "cell_type": "markdown",
      "source": [
        "« How Advanced Analytics Fueled a Record-Breaking Launch » (Parrot Analytics / Telenovela)\n",
        "\n",
        "- Une plateforme média a utilisé l’analyse de données pour planifier et optimiser le lancement d’une nouvelle telenovela (feuilleton), en analysant les tendances d’audience, les performances de titres existants, le comportement des spectateurs et le timing optimal.\n",
        "\n",
        " - Ils ont combiné l’analyse temporelle (time-series), l’analyse démographique, et le benchmarking pour influencer la stratégie de sortie et maximiser l’engagement."
      ],
      "metadata": {
        "id": "arpW5Qhajkod"
      }
    },
    {
      "cell_type": "markdown",
      "source": [
        "Step 2: Analyze the role of data analysis in the chosen story. Pay attention to what data was analyzed, the methods used, and the outcomes or decisions driven by the analysis."
      ],
      "metadata": {
        "id": "ZM8Z2KIQjGHa"
      }
    },
    {
      "cell_type": "markdown",
      "source": [
        "Analyze the Role of Data Analysis\n",
        "🎬 Contexte\n",
        "\n",
        "Une grande chaîne latino-américaine voulait lancer une nouvelle telenovela (série dramatique) dans un marché saturé et imprévisible.\n",
        "\n",
        "Les lancements précédents reposaient principalement sur l’intuition des producteurs : choix du casting, horaire, diffusion linéaire, campagne média.\n",
        "\n",
        "Résultat : beaucoup d’échecs coûteux et peu de visibilité sur les facteurs de succès.\n",
        "\n",
        "L’entreprise a donc fait appel à Parrot Analytics, spécialiste mondial de la mesure de la demande de contenus à partir de données globales.\n",
        "\n",
        "\n",
        "1.   Type de données analysées\n",
        "\n",
        "Parrot a intégré un ensemble massif de données issues de plusieurs sources :\n",
        "\n",
        " - Données d’audience TV et streaming : visionnages, minutes vues, taux de rétention.\n",
        "\n",
        " - Interactions en ligne : recherches Google, activité sur Wikipédia, tweets, mentions sur TikTok, Instagram, Facebook, Reddit.\n",
        "\n",
        " - Historique de performance de séries similaires (genres, acteurs, pays, chaînes).\n",
        "\n",
        " - Données démographiques et géographiques : âge, sexe, pays, langue, pouvoir d’achat.\n",
        "\n",
        " - Tendances temporelles : moments de la journée / de la semaine où la demande pour les drames latins est la plus forte.\n",
        "\n",
        "\n",
        "Chaque donnée a été pondérée pour construire un indicateur unifié appelé \"Demand Expressions™\" — une mesure propriétaire de Parrot Analytics représentant la demande active des spectateurs pour un contenu donné.\n",
        "\n",
        "2.   Méthodes et outils utilisés\n",
        "\n",
        "Parrot a utilisé une combinaison de techniques analytiques :\n",
        "\n",
        " - Time Series Forecasting (prévision temporelle)\n",
        "Pour identifier les cycles de popularité des drames romantiques selon la période de l’année.\n",
        "\n",
        " - Segmentation & Clustering\n",
        "Pour regrouper les publics en fonction de leurs comportements (ex : fans d’histoires familiales vs intrigues policières).\n",
        "\n",
        " - Comparative Benchmarking\n",
        "Comparaison des performances de séries concurrentes sur différentes plateformes, pays et fuseaux horaires.\n",
        "\n",
        " - Predictive Modeling\n",
        "Modèles prédictifs (machine learning) pour estimer le potentiel d’audience selon différents scénarios : diffusion quotidienne, hebdomadaire, ou sur streaming.\n",
        "\n",
        " - Sentiment Analysis\n",
        "Analyse des réactions sociales pour tester les intentions d’audience face aux teasers, affiches, acteurs ou titres potentiels.\n",
        "\n",
        "3.   Décisions et résultats issus de l’analyse\n",
        "\n",
        "Les résultats de ces analyses ont directement influencé plusieurs décisions clés :\n",
        "\n",
        " - Timing de lancement\n",
        "    - Les données ont montré que la demande pour les séries romantiques atteignait un pic six semaines avant la Saint-Valentin, période optimale pour capter l’attention du public.\n",
        "    \n",
        "    - La diffusion a donc été planifiée en conséquence, augmentant la portée du premier épisode.\n",
        "\n",
        " - Positionnement narratif\n",
        "    - L’analyse de sentiment a révélé que les publics recherchaient davantage de rôles féminins forts et modernes.\n",
        "    - Le scénario a été ajusté pour renforcer le protagonisme féminin — choix salué par la critique et les fans.\n",
        "\n",
        " - Ciblage marketing\n",
        "    - Les clusters démographiques ont montré que le public le plus réactif provenait de Mexique, Colombie et Espagne.\n",
        "\n",
        "    - Les campagnes digitales ont donc été optimisées sur ces zones, avec un retour sur investissement publicitaire supérieur à 30 %.\n",
        "\n",
        " - Distribution multiplateforme\n",
        "    - L’analyse des comportements a montré que les jeunes adultes préféraient le streaming différé, alors que les femmes 35-50 ans regardaient en direct.\n",
        "\n",
        "    - Le plan média a donc combiné diffusion TV + disponibilité immédiate sur plateforme numérique."
      ],
      "metadata": {
        "id": "0u6FO2RKkDPh"
      }
    },
    {
      "cell_type": "markdown",
      "source": [
        "Step 3: Ask yourself how the data analysis impacted the situation. Consider questions like: What would have been different without data analysis? How did data analysis contribute to solving a problem or making a decision?"
      ],
      "metadata": {
        "id": "KIhwSz5OjICE"
      }
    },
    {
      "cell_type": "markdown",
      "source": [
        "1. Before data analysis\n",
        "\n",
        "Avant l’intervention de Parrot Analytics, la chaîne utilisait une approche classique :\n",
        "\n",
        " - Lancement calé sur l’intuition des producteurs.\n",
        "\n",
        " - Horaire choisi selon l’historique de grille, pas selon le comportement réel du public.\n",
        "\n",
        " - Marketing générique basé sur le casting et la notoriété de la marque.\n",
        "\n",
        "2. After data analysis\n",
        "\n",
        "L’exploitation des données a changé le centre de gravité de la décision :\n",
        "\n",
        " - Les analystes ont fourni des tableaux de bord de prévision de demande en temps réel.\n",
        "\n",
        " - Les créatifs ont pu tester différents scénarios narratifs et visuels avant tournage.\n",
        "\n",
        " - Les marketeurs ont piloté la diffusion comme une opération scientifique : segmentation, tests A/B, allocation dynamique du budget pub.\n",
        "\n",
        "3. Tangible outcomes\n",
        "Domaine\tAvant\tAprès l’analyse\n",
        "Audience moyenne\t– 15 % sous la moyenne des lancements\t+ 45 % au-dessus\n",
        "Engagement social\tFaible, aléatoire\tx 3 sur les plateformes clés\n",
        "Exportations internationales\t4 pays\t12 pays dans les 3 mois ROI marketing\t0.8 \\$ par dollar investi\t1.3 \\$ par dollar investi\n",
        "\n",
        "Ces résultats n’ont pas seulement créé un succès ponctuel ; ils ont servi à bâtir un modèle prédictif réutilisable pour les futurs lancements de séries.\n",
        "\n",
        "4. What would have been different without data analysis\n",
        "\n",
        "Sans cette démarche analytique :\n",
        "\n",
        " - Le lancement aurait probablement eu lieu hors saison de demande.\n",
        "\n",
        " - Le scénario n’aurait pas été optimisé pour les préférences réelles du public.\n",
        "\n",
        " - Les dépenses publicitaires auraient été dispersées, sans segmentation précise.\n",
        "\n",
        " - Le succès du programme aurait reposé sur la chance, pas sur la compréhension du marché.\n",
        "\n",
        " - L’entreprise aurait perdu une occasion stratégique de renforcer son image et sa part d’audience sur un marché concurrentiel."
      ],
      "metadata": {
        "id": "ubjsYVGxlx2B"
      }
    },
    {
      "cell_type": "markdown",
      "source": [
        "Step 4: Present your findings in writing, Focus on explaining the significance of data analysis in the context of your chosen story."
      ],
      "metadata": {
        "id": "r8u6I9jhjKky"
      }
    },
    {
      "cell_type": "markdown",
      "source": [
        "n 2025, Parrot Analytics partnered with a major Latin-American broadcaster to support the launch of a new telenovela. Traditionally, programming decisions in television—such as release timing, story direction, and marketing—relied heavily on producer intuition and past experience. However, this project marked a turning point: every major decision was driven by data analysis rather than guesswork.\n",
        "\n",
        "Parrot Analytics gathered and analyzed vast datasets, including television and streaming viewership metrics, social-media interactions, online searches, and demographic information. Using advanced analytical techniques—such as time-series forecasting, audience clustering, predictive modeling, and sentiment analysis—the company uncovered hidden audience patterns. The data revealed when viewer demand for romantic dramas peaked, which regions were most responsive, and what character types resonated emotionally with audiences.\n",
        "\n",
        "This intelligence transformed the project. The network adjusted the airdate to align with a period of maximum audience interest, refined the narrative to highlight a strong female protagonist based on sentiment data, and tailored its marketing strategy toward high-engagement countries like Mexico, Colombia, and Spain.\n",
        "\n",
        "The results were striking: the show achieved a 45 % higher viewership than comparable launches, tripled its social-media engagement, and expanded distribution to a dozen new markets within months.\n",
        "\n",
        "The significance of this case lies in how data analysis became a creative and strategic compass. It not only guided operational choices but also reshaped the understanding of what makes a program successful. Without analytics, the launch would likely have followed a generic formula; with it, the network built a precise, evidence-based blueprint for storytelling, scheduling, and promotion.\n",
        "\n",
        "This example demonstrates that in today’s media industry, data is not merely a performance report—it is the foundation of intelligent decision-making. When properly applied, analytics turns uncertainty into insight and transforms artistic risk into measurable opportunity."
      ],
      "metadata": {
        "id": "aZuMOBVumV5b"
      }
    }
  ]
}